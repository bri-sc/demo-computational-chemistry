{
 "cells": [
  {
   "cell_type": "markdown",
   "id": "2e14df25-b759-4f49-a37b-eb58ed756735",
   "metadata": {},
   "source": [
    "# Computational Chemistry"
   ]
  },
  {
   "cell_type": "markdown",
   "id": "97d2a3b9-966d-49f4-bbf4-226c2d73edac",
   "metadata": {},
   "source": [
    "This demonstration aims to introduce how Python can be applied in a Chemistry context. We will focus on reactions and kinetics, by utilising some datasets and analysing them to visualise trends.\n",
    "\n",
    "The data used in this demo has been taken from this paper: https://www.nature.com/articles/s41557-023-01393-w (King-Smith, E., Berritt, S., Bernier, L. et al. Probing the chemical ‘reactome’ with high-throughput experimentation data. _Nat. Chem._ **16**, 633–643 (2024). https://doi.org/10.1038/s41557-023-01393-w), and the corresponding GitHub repository: https://github.com/emmaking-smith/HiTEA/blob/master/data/8_SEPT_APPROVED_full_dataset.csv (file used is `reaction_screening_data.csv`)\n",
    "\n",
    "This demo makes use of High Throughput Experimentation (HTE) data, which is data that is produced from screening a very large number of chemical reactions, with varying conditions to determine the best reagents, catalysts and conditions to optimise reaction yield, selectivity and impurity control. Large numbers of experiments can be carried out in parallel, each experiment being done on a smaller scale than would be traditionally carried out.\n",
    "\n",
    "In this demo we will look at a sample of this data and only filter it down to only focus on reactions between a combination of specific reactants, solvent and reagent, and see what catalyst would be most suited to it."
   ]
  },
  {
   "cell_type": "markdown",
   "id": "cf13b7c3-f4f4-412c-bbd1-87332262f364",
   "metadata": {},
   "source": [
    "---"
   ]
  },
  {
   "cell_type": "markdown",
   "id": "c4f453fb-d447-4cba-89d0-d04d0ebd7c02",
   "metadata": {},
   "source": [
    "# How to use Jupyter"
   ]
  },
  {
   "cell_type": "markdown",
   "id": "f2db715e-8248-46e5-82aa-b74fc52077a2",
   "metadata": {},
   "source": [
    "In Jupyter notebooks code can be run cell by cell. Cells are like textboxes which let you input code and comments, and the play button (⏵) lets you run cells individually. The fast forward button (⏩) lets you run the entire notebook. You can also press Shift+Enter to run cells individually.\n",
    "\n",
    "Some of the cells can be run as they are and others will require you to input some code before running. It will be specified which you need to do."
   ]
  },
  {
   "cell_type": "markdown",
   "id": "031d1afc-38d7-4fdf-8fe5-7e52ca107cb0",
   "metadata": {},
   "source": [
    "## Reaction screening data"
   ]
  },
  {
   "cell_type": "markdown",
   "id": "9f5be46a-ff11-4b9b-94ff-bf2b6d6bcba6",
   "metadata": {},
   "source": [
    "In this demo we will have a look at a dataset containing reaction data.\n",
    "\n",
    "The reaction used is the Buchwald-Hartwig reaction, a type of coupling reaction with a palladium catalyst which forms C-N bonds.\n",
    "\n",
    "<!-- A simplified diagram of the mechanism is shown here. You may not have seen a reaction mechanism that looks like this before, but essentially it consists of multiple steps and is a catalytic cycle, so the catalyst gets returned and the reactions can repeat multiple times. -->\n",
    "\n",
    "<!-- ![Buchwald-Hartwig](buchwald_hartwig.jpg) -->\n",
    "\n",
    "<!-- (image from paper by Gribanov, P. S., Philippova, A. N., Topchiy, M. A., Minaeva, L. I., Asachenko, A. F., & Osipov, S. N. (2022). General Method of Synthesis of 5-(Het)arylamino-1,2,3-triazoles via Buchwald–Hartwig Reaction of 5-Amino-or 5-Halo-1,2,3-triazoles. _Molecules_, **27**(6), 1999. https://doi.org/10.3390/MOLECULES27061999/S1) -->\n",
    "\n",
    "A simplified equation of the reaction is shown here:\n",
    "\n",
    "![Buchwald-Hartwig](buchwald_hartwig.png)\n",
    "\n",
    "(image from textbook by Clayden, J., Greeves, N., & Warren, S. (2012). Organic chemistry. In Organic Chemistry (2nd ed., pp. 1092–1093). Oxford University Press. https://doi.org/10.1093/HESC/9780199270293.003.0040)\n",
    "\n",
    "The Buchwald Hartwig reaction consists of several components:\n",
    "- The starting material: ArX, and the product: ArNR$_2$. ArX essentially specifies a benzene (**ar**omatic) ring that is bonded to a halide (**X**). ArNR$_2$ specifies an amine consisting of a benzene ring (**Ar**) and 2 generic hydrocarbon (or **R**) groups bonded to the **N** atom.\n",
    "- The catalyst: a Pd(0) complex such as Pd$_2$(dba)$_3$.\n",
    "- Ligand: in this case it is P(o-tol)$_3$, which helps with the steps in the cycle\n",
    "- Base: NaOt-Bu which drives the reaction and regenerates Pd(0) species\n",
    "- Solvent: dioxane, which is often sued in Buchwald-Hartwig reactions as it dissolves both the aryl halide and base well and is non-coordinating.\n",
    "\n",
    "In reality, this reaction is actually a cycle with multiple steps to generate the product as well as a catalytic species which is used up and regenerated. \n",
    "\n",
    "This is quite a bit beyond what is covered in A-level but if you would like to find out more about the reaction and its mechanism, have a look at the image `buchwald_hartwig.jpg` (from paper by Gribanov, P. S., Philippova, A. N., Topchiy, M. A., Minaeva, L. I., Asachenko, A. F., & Osipov, S. N. (2022). General Method of Synthesis of 5-(Het)arylamino-1,2,3-triazoles via Buchwald–Hartwig Reaction of 5-Amino-or 5-Halo-1,2,3-triazoles. _Molecules_, **27**(6), 1999. https://doi.org/10.3390/MOLECULES27061999/S1) and visit this link: https://www.sciencedirect.com/science/article/pii/S0022328X18301128.\n",
    "\n",
    "First, we will import the _libraries_ that we require - these are pre-written packages that have various different functionalities. Most of them are imported in the format `import X as Y`, where `X` is the full name of the library and `Y` is an abbreviation for it - you can put anything you want as the name for `Y`, but there is normally a naming convention for each library, such as `pandas` being shortened to `pd`, to create consistency across code."
   ]
  },
  {
   "cell_type": "code",
   "execution_count": null,
   "id": "04e566d1-59ba-4b3c-a7da-b91c2412271e",
   "metadata": {},
   "outputs": [],
   "source": [
    "# Run this cell as it is\n",
    "# Importing libraries\n",
    "import pandas as pd\n",
    "import matplotlib.pyplot as plt\n",
    "import seaborn as sns\n",
    "import numpy as np\n",
    "import rdkit\n",
    "from sklearn.linear_model import LinearRegression"
   ]
  },
  {
   "cell_type": "markdown",
   "id": "2c1f6be5-b3ff-41cb-8715-17680dfb1ed8",
   "metadata": {},
   "source": [
    "You will notice that there is a _directory_ (folder) called \"data\". There are some files within it, which we will be analysing in this demo. They have been saved in a .csv (comma separated values) format, which makes it easy to process and clean if necessary.\n",
    "\n",
    "\n",
    "The library we will be using to read in this data is called `pandas` which derives its name from the term _panel data_, used in econometrics to refer to multi-dimensional structured data, often involving measurements over time. There is a specific function to do read data in a .csv format, `read_csv()`."
   ]
  },
  {
   "cell_type": "code",
   "execution_count": null,
   "id": "fc05166f-122f-4174-928a-caf94f619627",
   "metadata": {},
   "outputs": [],
   "source": [
    "# Run this cell as it is\n",
    "data_filename = \"data/reaction_screening_data.csv\" # Create variable to store the filename\n",
    "data = pd.read_csv(data_filename) # Read in the data using pandas"
   ]
  },
  {
   "cell_type": "markdown",
   "id": "2c925aea-a5f5-4b3c-a701-378fd7556689",
   "metadata": {},
   "source": [
    "We have created a variable called `data` which contains a table of information that we have extracted from a file. We can preview the first few rows of the table using `.head()`."
   ]
  },
  {
   "cell_type": "code",
   "execution_count": null,
   "id": "6b8d27c9-9851-4604-bce5-7baa95e42631",
   "metadata": {},
   "outputs": [],
   "source": [
    "data.head()"
   ]
  },
  {
   "cell_type": "markdown",
   "id": "6f51faa8-e974-4094-ba93-3013c9549a1f",
   "metadata": {},
   "source": [
    "We can see that the dataset contains a lot of columns (45 to be exact!). To simplify this, most of the columns won't be used in this demo, but the ones that are relevant to us are: \n",
    "- Dataset entry number - a unique identifier for each row of the dataset\n",
    "- PRODUCT_STRUCTURE - shows the SMILES string of the product (more info on this later)\n",
    "- Reactant_1_ID: chemical name of the reactant\n",
    "- Reactant_2_ID: chemical name of the reactant\n",
    "- Solvent_1_Name: solvent that the reaction was carried out in\n",
    "- Reagent_1_Short_Hand: the reagent used (this is added to cause a reaction, but unlike a reactant it is not consumed)\n",
    "- Product_Yield_PCT_Area_UV: this is a way of calculating the product yield based on its peak area relative to the UV detected peak area of a HPLC (high-performance liquid chromatography) chromatogram\n",
    "- Product_Yield_Mass_Ion_Count: the yield from the intensity of the mass spectrometer's signals corresponding to the product\n",
    "\n",
    "The details of these measures of product yield are not too important to focus on for this demo, but you can read more about them if you wish."
   ]
  },
  {
   "cell_type": "markdown",
   "id": "a3f2c6c1-f463-4db0-b927-8e0f5f112d2a",
   "metadata": {},
   "source": [
    "We can see from the first few rows that the dataset contains many different reaction classes, not just the Buchwald-Hartwig reaction, so we need to do something called _filtering_ to only keep the data relevant to us - this code only keeps the rows of data in which the column `\"KeyWord_STD\"` has the value of `\"BUCHWALD\"`."
   ]
  },
  {
   "cell_type": "code",
   "execution_count": null,
   "id": "296b9c80-3d52-4e9e-89c3-b65a4c1073cb",
   "metadata": {},
   "outputs": [],
   "source": [
    "data_filtered = data[data[\"KeyWord_STD\"] == \"BUCHWALD\"]\n",
    "data_filtered = data_filtered.dropna(subset = [\"Reagent_1_Short_Hand\"])\n",
    "# data_buchwald.to_csv(\"data/buchwald.csv\", sep = \",\", index = False)"
   ]
  },
  {
   "cell_type": "markdown",
   "id": "62e63ffe-97bf-4152-b4a9-e4d29be528d5",
   "metadata": {},
   "source": [
    "Let's have another look at our filtered dataset:"
   ]
  },
  {
   "cell_type": "code",
   "execution_count": null,
   "id": "070ee105-3482-4a25-84b5-4f823aec823e",
   "metadata": {},
   "outputs": [],
   "source": [
    "data_filtered.head()"
   ]
  },
  {
   "cell_type": "markdown",
   "id": "4a5aabc9-70c1-4d68-b071-7efa87c61f7e",
   "metadata": {},
   "source": [
    "For convenience, this filtered dataset has been saved into another `.csv` file called `buchwald.csv`, so that it is easier to access. Let's read in this file:"
   ]
  },
  {
   "cell_type": "code",
   "execution_count": null,
   "id": "f4b6226a-45ff-4dcc-b174-15cbe781b0cc",
   "metadata": {},
   "outputs": [],
   "source": [
    "data_buchwald_filename = \"data/buchwald.csv\" # Create variable to store the filename\n",
    "data_buchwald = pd.read_csv(data_buchwald_filename)"
   ]
  },
  {
   "cell_type": "code",
   "execution_count": null,
   "id": "7f1255ea-19ea-497e-a07a-2c1d7302d1c7",
   "metadata": {},
   "outputs": [],
   "source": [
    "data_buchwald.head()"
   ]
  },
  {
   "cell_type": "markdown",
   "id": "c8406a5b-b0de-4f79-ad6b-753a621ee91f",
   "metadata": {},
   "source": [
    "_SMILES strings_ (which are like the structural formula of a compound) are a useful way to determine structures of molecules. \n",
    "\n",
    "We can see that from the first few rows, reactant 1 is given as \"`MFCD00006493`\", which does not tell us much. However, we can look up its SMILES string and use the RDKit library to extract its molecular structure using the function `rdkit.Chem.MolFromSmiles()`.\n",
    "\n",
    "Here we will extract the individual column from the database (`PRODUCT_STRUCTURE`), which gives us the SMILES string. \n",
    "\n",
    "We're going to save out the results for both reactants to a separate name, or _variable_, for easier access."
   ]
  },
  {
   "cell_type": "code",
   "execution_count": null,
   "id": "723fa1f7-4dcd-4b28-8b49-583733c4c9d8",
   "metadata": {},
   "outputs": [],
   "source": [
    "# Create variable for the PRODUCT_STRUCTURE column in the dataframe\n",
    "PRODUCT_STRUCTURE = data_buchwald[\"PRODUCT_STRUCTURE\"]"
   ]
  },
  {
   "cell_type": "markdown",
   "id": "94c8070b-4a4c-4c4d-9b2c-6557ea8e4b5a",
   "metadata": {},
   "source": [
    "A bit like with coordinates on a graph, as we now have a variable for this particular column, we can now extract a particular row in this column to find a particular product's structure. Python uses 0-indexing, meaning that it starts counting from 0 not 1, so to access the product structure in the first row we use 0, denoted in square brackets `[]`."
   ]
  },
  {
   "cell_type": "code",
   "execution_count": null,
   "id": "20707682-6ad4-454a-a451-c0de983c63eb",
   "metadata": {},
   "outputs": [],
   "source": [
    "product = PRODUCT_STRUCTURE[0]\n",
    "rdkit.Chem.MolFromSmiles(product)"
   ]
  },
  {
   "cell_type": "markdown",
   "id": "1a6e469c-0554-46ff-9465-82ebded4f331",
   "metadata": {},
   "source": [
    "It seems that this structure is a bit more complicated than the generic structure given in the simplified equation, however the aromatic ring and amine group is present. The aromatic ring does not necessarily have to be a benzene ring."
   ]
  },
  {
   "cell_type": "markdown",
   "id": "2d6c5733-e1e9-40b2-b1d1-19e52323dcfc",
   "metadata": {},
   "source": [
    "**Question (1): Use the code above to extract the product of row index 500 then use the `rdkit.Chem.MolFromSmiles()` function to find its display formula. Note, you do not need to repeat the first line as we have already created our variable.**\n",
    "\n",
    "*Add some text to the cell below and press the &#9205; Run button (play symbol). To run all the cells again in order press the &#9193; button (fast-forward symbol) and then select the red \"Restart and Run All Cells\" option.*"
   ]
  },
  {
   "cell_type": "code",
   "execution_count": null,
   "id": "f99f445b-e87a-4257-af11-7912fa44573b",
   "metadata": {},
   "outputs": [],
   "source": [
    "## ADD TEXT HERE\n"
   ]
  },
  {
   "cell_type": "markdown",
   "id": "aec5923d-6a19-4896-a526-7dee02d80fe9",
   "metadata": {},
   "source": [
    "Here we will now extract individual columns from the dataset for reactant 1 and reactant 2, and as before we're going to save out the results for the reactants, solvent, catalyst and reagent to two separate names for easier access:"
   ]
  },
  {
   "cell_type": "code",
   "execution_count": null,
   "id": "f89d2ac2-f2b7-4741-a644-e797acfb12b3",
   "metadata": {},
   "outputs": [],
   "source": [
    "Reactant_1_ID = data_buchwald[\"Reactant_1_ID\"]\n",
    "Reactant_2_ID = data_buchwald[\"Reactant_2_ID\"]\n",
    "Solvent_1_Name = data_buchwald[\"Solvent_1_Name\"]\n",
    "Catalyst_2_Short_Hand = data_buchwald[\"Catalyst_2_Short_Hand\"]\n",
    "Reagent_1_Short_Hand = data_buchwald[\"Reagent_1_Short_Hand\"]"
   ]
  },
  {
   "cell_type": "markdown",
   "id": "714b5d3c-0f02-47e0-baf7-83dc957bef5c",
   "metadata": {},
   "source": [
    "We can also do something called _filtering_, where we can extract the data from a particular column that only meets the conditions we pose.\n",
    "\n",
    "For example, from looking at the data in the original file, we can see there are _a lot_ of different reactant 1s, reactant 2s, solvents and reagents. We can filter out the data so that the only reactant 1 present is `PF-05314903`, the only reactant 2 present is `MFCD03419272`. This will make it easier to compare other factors while keeping the reactants the same."
   ]
  },
  {
   "cell_type": "code",
   "execution_count": null,
   "id": "8f5c7b52-f44c-4fd5-bc09-767291b48f29",
   "metadata": {},
   "outputs": [],
   "source": [
    "# Use of filtering - note that \"&\" means AND and ensures that only the data that meets all three conditions will be extracted\n",
    "r1 = Reactant_1_ID[(Reactant_1_ID == \"PF-05314903\") & (Reactant_2_ID == \"MFCD03419272\") & (Solvent_1_Name == \"Dioxane\") & (Reagent_1_Short_Hand == \"LiOBut\")]\n",
    "r2 = Reactant_2_ID[(Reactant_1_ID == \"PF-05314903\") & (Reactant_2_ID == \"MFCD03419272\") & (Solvent_1_Name == \"Dioxane\") & (Reagent_1_Short_Hand == \"LiOBut\")]"
   ]
  },
  {
   "cell_type": "markdown",
   "id": "5d71b750-9e3a-4515-a365-b744ec48009e",
   "metadata": {},
   "source": [
    "We will do the same for the reagent and product yield columns - for now we will use the `Product_Yield_PCT_Area_UV` column as our measure for the yield:"
   ]
  },
  {
   "cell_type": "code",
   "execution_count": null,
   "id": "b5c5cab9-3252-45e8-8e00-406cd6a330eb",
   "metadata": {},
   "outputs": [],
   "source": [
    "Catalyst_2_Short_Hand = data_buchwald[\"Catalyst_2_Short_Hand\"]\n",
    "catalyst = Catalyst_2_Short_Hand[(Reactant_1_ID == \"PF-05314903\") & (Reactant_2_ID == \"MFCD03419272\") & (Solvent_1_Name == \"Dioxane\") & (Reagent_1_Short_Hand == \"LiOBut\")]\n",
    "Product_Yield_PCT_Area_UV = data_buchwald[\"Product_Yield_PCT_Area_UV\"]\n",
    "yield_uv = Product_Yield_PCT_Area_UV[(Reactant_1_ID == \"PF-05314903\") & (Reactant_2_ID == \"MFCD03419272\") & (Solvent_1_Name == \"Dioxane\") & (Reagent_1_Short_Hand == \"LiOBut\")]"
   ]
  },
  {
   "cell_type": "code",
   "execution_count": null,
   "id": "5a41ad51-0d4f-42c8-845a-14fa381ac359",
   "metadata": {},
   "outputs": [],
   "source": [
    "data_buchwald[(Reactant_1_ID == \"PF-05314903\") & (Reactant_2_ID == \"MFCD03419272\") & (Solvent_1_Name == \"Dioxane\") & (Reagent_1_Short_Hand == \"LiOBut\")].to_csv(\"data/filtered.csv\", sep = \",\")"
   ]
  },
  {
   "cell_type": "markdown",
   "id": "afe77f93-fbe8-4179-8577-87dc2291f334",
   "metadata": {},
   "source": [
    "There are many ways to visualise data in Python (e.g. line graphs, scatter plots, bar charts) however it depends on what type of data you have. There are multiple different libraries that can be used to plot these graphs but as an example we will use `seaborn`. `seaborn` is a library for making statistical graphics - it builds on top of `matplotlib` and integrates closely with `pandas` data structures (more information available in [documentation](https://seaborn.pydata.org/tutorial/introduction)).\n",
    "\n",
    "Here we are comparing the type of reagent (a `string` data type) with the yield (a `float` data type) and there is a 1:1 ratio between the each ligands used and the number of experiments run with each one. Therefore, it is best to use a bar chart.\n",
    "\n",
    "(Bar plot - shows the mean yield with the variability: https://seaborn.pydata.org/generated/seaborn.barplot.html)\n",
    "\n",
    "Let's try to plot this as a whole:"
   ]
  },
  {
   "cell_type": "code",
   "execution_count": null,
   "id": "f25fb2ec-2d18-4427-a754-2966e58a2327",
   "metadata": {},
   "outputs": [],
   "source": [
    "plt.bar(catalyst, yield_uv)\n",
    "plt.xlabel(\"catalyst\")\n",
    "plt.ylabel(\"yield / % area UV\")\n",
    "plt.xticks(rotation = 45, ha = 'right') # this part just rotates the x axis labels so that they don't overlap and can be read properly\n",
    "plt.show()"
   ]
  },
  {
   "cell_type": "markdown",
   "id": "d44f87c9-5ae2-4fa3-b9bc-aa4dffbfb309",
   "metadata": {},
   "source": [
    "**Question (2): Which catalyst(s) seems to get the best yield here?**\n",
    "\n",
    "*Discuss in groups*"
   ]
  },
  {
   "cell_type": "markdown",
   "id": "588f3f88-9d0f-4c27-8448-69c57f7f6ac4",
   "metadata": {},
   "source": [
    "We can now do the same thing but using the `Product_Yield_Mass_Ion_Count` column as our measure for yield, and see how this compares."
   ]
  },
  {
   "cell_type": "code",
   "execution_count": null,
   "id": "098df1cc-1823-49e4-b74e-b4fe00930f03",
   "metadata": {},
   "outputs": [],
   "source": [
    "Product_Yield_Mass_Ion_Count = data_buchwald[\"Product_Yield_Mass_Ion_Count\"]\n",
    "yield_ion = Product_Yield_Mass_Ion_Count[(Reactant_1_ID == \"PF-05314903\") & (Reactant_2_ID == \"MFCD03419272\") & (Solvent_1_Name == \"Dioxane\") & (Reagent_1_Short_Hand == \"LiOBut\")]"
   ]
  },
  {
   "cell_type": "code",
   "execution_count": null,
   "id": "ef31c826-a4c6-4e3c-bdbe-d2fb792ed68d",
   "metadata": {},
   "outputs": [],
   "source": [
    "plt.bar(catalyst, yield_ion)\n",
    "plt.xlabel(\"catalyst\")\n",
    "plt.ylabel(\"yield / mass ion count\")\n",
    "plt.xticks(rotation = 45, ha = 'right') # this part just rotates the x axis labels so that they don't overlap and can be read properly\n",
    "plt.show()"
   ]
  },
  {
   "cell_type": "markdown",
   "id": "80eceb98-7500-4d14-a193-7a2fc756e654",
   "metadata": {},
   "source": [
    "**Question (3): Does the same catalyst(s) give the best yield for this graph too? How do the data from the different measures of yield differ?**\n",
    "\n",
    "*Discuss in groups*"
   ]
  },
  {
   "cell_type": "code",
   "execution_count": null,
   "id": "269b096a-35af-48c5-9178-5fc9b3629374",
   "metadata": {},
   "outputs": [],
   "source": []
  }
 ],
 "metadata": {
  "kernelspec": {
   "display_name": "Python 3 (ipykernel)",
   "language": "python",
   "name": "python3"
  },
  "language_info": {
   "codemirror_mode": {
    "name": "ipython",
    "version": 3
   },
   "file_extension": ".py",
   "mimetype": "text/x-python",
   "name": "python",
   "nbconvert_exporter": "python",
   "pygments_lexer": "ipython3",
   "version": "3.11.9"
  }
 },
 "nbformat": 4,
 "nbformat_minor": 5
}
