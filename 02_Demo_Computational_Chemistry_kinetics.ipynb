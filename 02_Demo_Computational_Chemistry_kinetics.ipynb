{
 "cells": [
  {
   "cell_type": "markdown",
   "id": "610037ae-2453-479e-b2d9-1f62d2d2ba7d",
   "metadata": {},
   "source": [
    "# Computational Chemistry"
   ]
  },
  {
   "cell_type": "markdown",
   "id": "eccbd944-b6e5-4966-8703-a7583c66ab02",
   "metadata": {},
   "source": [
    "This demonstration aims to introduce how Python can be applied in a Chemistry context. We will focus on reactions and kinetics, by utilising a dataset and analysing it to visualise trends.\n",
    "\n",
    "The data used in this demo has been taken from this GitHub repository: https://github.com/flboudoire/chemical-kinetics/blob/master/examples/simple_example/data/concentrations%20vs%20time.csv, with documentation here: https://chemical-kinetics.readthedocs.io/en/latest/index.html (file used is `concentrations_vs_time.csv`)"
   ]
  },
  {
   "cell_type": "markdown",
   "id": "257dfcf4-c377-4773-9431-4bf5a14ce7ee",
   "metadata": {},
   "source": [
    "---"
   ]
  },
  {
   "cell_type": "markdown",
   "id": "32bdf3c0-7a59-4ef5-8f9b-d0ed2a81d02d",
   "metadata": {},
   "source": [
    "## How to use Jupyter"
   ]
  },
  {
   "cell_type": "markdown",
   "id": "482e11d8-f2f8-476c-a84b-8e27ebc1502e",
   "metadata": {},
   "source": [
    "In Jupyter notebooks code can be run cell by cell. Cells are like textboxes which let you input code and comments, and the play button (⏵) lets you run cells individually. The fast forward button (⏩) lets you run the entire notebook. You can also press Shift+Enter to run cells individually.\n",
    "\n",
    "Some of the cells can be run as they are and others may require you to input some code before running. It will be specified which you need to do."
   ]
  },
  {
   "cell_type": "markdown",
   "id": "b24502c5-bd59-4e4a-adcb-02f2657a051e",
   "metadata": {},
   "source": [
    "---"
   ]
  },
  {
   "cell_type": "markdown",
   "id": "5d534d7d-a544-4f69-a588-3139e788cf56",
   "metadata": {},
   "source": [
    "## Concentration and time data"
   ]
  },
  {
   "cell_type": "markdown",
   "id": "0bb0ad88-c73d-40d2-9671-3da34affe9c8",
   "metadata": {},
   "source": [
    "In this demo we will have a look at a different set of data for a typical chemical reaction that might take place for a kinetics study, where the progress of the reaction is monitored over time. A common way to do this is look at the loss in mass of the reactant over time (if it is producing a gaseous product) and use the known starting mass to calculate the concentrations. We will then determine the rate order of the reactant (zeroth, first, second), by plotting graphs from integrated rate laws. We will then use _machine learning_ to predict the concentration of one of the reagents at a given time.\n",
    "\n",
    "Machine learning relates to using computers to extract information from data, automatically learning and improving through the use of that data. It is a broad term that applies to a wide range of methods, and one of the simplest techniques is the linear fit, or _linear regression_. This uses the data given to create a line of best fit for the graph, and we can then use this to extrapolate or predict data points outside the current given range, as well as interpolate (predicting data points within the range)."
   ]
  },
  {
   "cell_type": "markdown",
   "id": "a2724cea-5863-44b7-9b57-8754fb6e09f0",
   "metadata": {},
   "source": [
    "First, we will import the _libraries_ that we require - these are pre-written packages that have various different functionalities. Most of them are imported in the format `import X as Y`, where `X` is the full name of the library and `Y` is an abbreviation for it - you can put anything you want as the name for `Y`, but there is normally a naming convention for each library, such as `pandas` being shortened to `pd`, to create consistency across code."
   ]
  },
  {
   "cell_type": "code",
   "execution_count": null,
   "id": "d2357ede-5418-4c96-9e64-32956eb3c9ba",
   "metadata": {},
   "outputs": [],
   "source": [
    "# Run this cell as it is\n",
    "# Importing libraries\n",
    "import pandas as pd\n",
    "import matplotlib.pyplot as plt\n",
    "import seaborn as sns\n",
    "import numpy as np\n",
    "import rdkit\n",
    "from sklearn.linear_model import LinearRegression"
   ]
  },
  {
   "cell_type": "code",
   "execution_count": null,
   "id": "282964cb-4c09-47e9-83bd-88df9e9d723c",
   "metadata": {},
   "outputs": [],
   "source": [
    "# Run this cell as it is\n",
    "data_filename_2 = \"data/concentrations_vs_time.csv\" # Create variable to store the filename\n",
    "data_2 = pd.read_csv(data_filename_2, sep = \",\") # Read in the data using pandas, specifying that the values are separated by a comma"
   ]
  },
  {
   "cell_type": "markdown",
   "id": "3e507e20-b1c3-4fb2-a704-da7be7431585",
   "metadata": {},
   "source": [
    "We have created a variable called `data` which contains a table of information that we have extracted from a file. We can preview the first few rows of the table using `.head()`."
   ]
  },
  {
   "cell_type": "code",
   "execution_count": null,
   "id": "ec5b7a59-4866-46ab-83c7-25a676ac4a20",
   "metadata": {},
   "outputs": [],
   "source": [
    "# Run this cell as it is\n",
    "data_2.head()"
   ]
  },
  {
   "cell_type": "markdown",
   "id": "02c99eed-1267-4454-9595-3c9fe2674b1d",
   "metadata": {},
   "source": [
    "The dataset contains columns for time (`t`) in seconds, and the concentrations in mol dm$^{-3}$ for 3 different compounds (arbitrarily named `A`, `B` and `C`). We can create variables for each of these columns and then plot them on a graph to look at the behaviour these compounds over time."
   ]
  },
  {
   "cell_type": "code",
   "execution_count": null,
   "id": "61054b5f-af38-4c1c-9215-9822a0b4a939",
   "metadata": {},
   "outputs": [],
   "source": [
    "# Run this cell as it is\n",
    "# Create variables for each column in the dataframe\n",
    "t = data_2[\"t\"]\n",
    "A = data_2[\"A\"]\n",
    "B = data_2[\"B\"]\n",
    "C = data_2[\"C\"]\n",
    "\n",
    "# Plot a scatter graph for time vs concentration\n",
    "plt.scatter(t, A, label = \"A\")\n",
    "plt.scatter(t, B, label = \"B\")\n",
    "plt.scatter(t, C, label = \"C\")\n",
    "plt.xlabel(\"time / s\")\n",
    "plt.ylabel(\"concentration / mol dm$^{-3}$\")\n",
    "plt.legend() # Adds a legend (key) to the plot to identify which points belong to which label\n",
    "plt.show() # Ensures both the plot and legend are showing"
   ]
  },
  {
   "cell_type": "markdown",
   "id": "8fe4676a-455c-4918-9710-7cb3695292c3",
   "metadata": {},
   "source": [
    "Here from the graph, we can see that A is likely to be the reactant as it shows a decrease over time. C is likely to be the product as it shows an increase over time. B seems to show a mix of both, suggesting that it is an intermediate - formed when A reacts, and then reacting itself to form C. \n",
    "\n",
    "The plot mainly shows clean trends, but we can see that for C the points become bunched together towards the end of the graph. We can use something called a rolling average to clean up the points."
   ]
  },
  {
   "cell_type": "code",
   "execution_count": null,
   "id": "603ad313-9838-4561-8423-f6bb0af37358",
   "metadata": {},
   "outputs": [],
   "source": [
    "# Run this cell as it is\n",
    "data_rolling_average = data_2.rolling(5, min_periods = 1).mean() # try adjusting this number\n",
    "t_rolling_average = data_rolling_average[\"t\"]\n",
    "A_rolling_average = data_rolling_average[\"A\"]\n",
    "B_rolling_average = data_rolling_average[\"B\"]\n",
    "C_rolling_average = data_rolling_average[\"C\"]\n",
    "plt.scatter(t_rolling_average, A_rolling_average, label = \"A\")\n",
    "plt.scatter(t_rolling_average, B_rolling_average, label = \"B\")\n",
    "plt.scatter(t_rolling_average, C_rolling_average, label = \"C\")\n",
    "plt.xlabel(\"time / s\")\n",
    "plt.ylabel(\"concentration / mol dm$^{-3}$\")\n",
    "plt.legend()\n",
    "plt.show()"
   ]
  },
  {
   "cell_type": "markdown",
   "id": "151681ee-63b1-46ae-8683-ab10a1ece458",
   "metadata": {},
   "source": [
    "The parameter (value inside the brackets for `data_2.rolling()`) is the window that the rolling average is taken for. Say we are calculating the rolling average over a window of 5 rows of data - at the very beginning, there aren't yet 5 values to use and there will only be a point on the graph after 5 data points are in the window. As a solution, we can also set the `min_periods` - as the rolling average is only taken after the window number is reached there will be points missing to start off with so the `min_periods` parameter takes this into account. Something to note is that the larger the number, the smoother the plot becomes, but if the number is too large (such as 20), the graph begins to lose its shape."
   ]
  },
  {
   "cell_type": "markdown",
   "id": "2c599386-276c-4aac-be46-a0e3366e4497",
   "metadata": {},
   "source": [
    "**Question (1): Experiment with the parameters in the `.rolling()` function in the cell above, and then re-run it. Have a look at how the shape of the graph might be different.**"
   ]
  },
  {
   "cell_type": "markdown",
   "id": "eebd47fa-4359-4923-9a4f-fe3d383fa113",
   "metadata": {},
   "source": [
    "As you may know from A-level Chemistry, reactants in a chemical reaction can be zeroth, first or second order depending on how concentration varies with time. You should be familiar with the first set of equations, the differentiated rate law where you can calculate the rate from the concentrations and rate constant, as well as the units for the rate constant (bottom row). The second set, the integrated rate law, may be new to you - but essentially this just integrates the first set of equations so that you can calculate the concentration of reactant at a given time, given you have the initial concentrations. The graphs for each order and type of rate law also each have distinctive shapes.\n",
    "\n",
    "![reaction rates](reaction_rates.png)\n",
    "\n",
    "We will be referring to this throughout the demo."
   ]
  },
  {
   "cell_type": "markdown",
   "id": "188e85ad-fa7d-4b17-a0b2-343919f40083",
   "metadata": {},
   "source": [
    "Focusing on the blue plot, since we have established that reactant A is the reactant, its graph shape is likely to either be first order or second order since it shows curvature. However, in order to determine which one it is exactly, we will need to make use of integrated rate laws.\n",
    "These equations are in a disguised $y = mx + c$ format and each rate order has a unique integrated rate equation that will give a linear plot.\n",
    "\n",
    "Looking at the integrated rate equations, we can see that for a first order reaction, we plot $ln([A])$ as our $y$ vs $t$ as our $x$. The gradient is $-k$ (the negative of the rate constant). The $y$ intercept will be $[A]_0$. For a second order reaction, we plot $\\frac{1}{[A]}$ as our $y$ vs $t$ as our $x$. The gradient is $+k$ (rate constant). The $y$ intercept will also be $[A]_0$. We will not go into the details of the integrations in this demo, but you can find out more about how these equations are derived here: https://chemistrytalk.org/integrated-rate-laws/\n",
    "\n",
    "We can plot both of these graphs, adding an extra column for these calculations, and see which graph gives a linear plot. We can't start variable names with numbers or have them contain operators like /, so we've named the variable for `1/[A]` to be `recA` (as short for 'reciprocal of A')\n",
    "\n",
    "We'll first create these new columns which save the results of calculations done to existing columns. We will preview our dataset again, and can see the 2 new columns:"
   ]
  },
  {
   "cell_type": "code",
   "execution_count": null,
   "id": "7b7a1ea5-49c9-4a0b-bf6c-63a5f7876209",
   "metadata": {},
   "outputs": [],
   "source": [
    "# Run this cell as it is\n",
    "data_2[\"ln([A])\"] = np.log(data_2[\"A\"]) # np.log() is essentially the ln() function in maths\n",
    "data_2[\"1/[A]\"] = 1 / (data_2[\"A\"])\n",
    "data_2.head()"
   ]
  },
  {
   "cell_type": "markdown",
   "id": "123bf670-0a27-437b-ad16-d76f38f62897",
   "metadata": {},
   "source": [
    "We will now plot the graphs:"
   ]
  },
  {
   "cell_type": "code",
   "execution_count": null,
   "id": "9f1b4d01-d97d-4d3b-a4f0-7b9b208a70d1",
   "metadata": {},
   "outputs": [],
   "source": [
    "# Run this cell as it is\n",
    "lnA = data_2[\"ln([A])\"]\n",
    "recA = data_2[\"1/[A]\"]\n",
    "\n",
    "fig, ax = plt.subplots()\n",
    "ax.scatter(t,lnA)\n",
    "ax.set_xlabel('t / s')\n",
    "ax.set_ylabel('ln([A] / mol dm$^{-3}$)')\n",
    "\n",
    "fig, ax = plt.subplots()\n",
    "ax.scatter(t,recA)\n",
    "ax.set_xlabel('t / s')\n",
    "ax.set_ylabel('1 / ([A] / mol dm$^{-3}$)')"
   ]
  },
  {
   "cell_type": "markdown",
   "id": "939fe9ca-3c79-4d0d-b0c4-2ad17578578d",
   "metadata": {},
   "source": [
    "We can see that this compares quite well to the pictures of the graph shapes. The second order graph appears to give a more linear plot. We can also verify this quantitatively using the linear regression tool `scikit-learn` by calculating an $R^2$ value. The $R^2$ value ranges from 0 to 1 and measures how well the model predicts the outcome (0 = very poor, 1 = very well). The more linear the graph, the better the model predicts the outcome."
   ]
  },
  {
   "cell_type": "code",
   "execution_count": null,
   "id": "ff013926-0e1e-4650-981d-c5b2e66ff5a1",
   "metadata": {},
   "outputs": [],
   "source": [
    "# Run this cell as it is\n",
    "model_1 = LinearRegression(fit_intercept=True)\n",
    "x = data_2[[\"t\"]] # The double square brackets are needed because input features must be 2D\n",
    "y = data_2['ln([A])']\n",
    "model_1.fit(x, y)\n",
    "R_squared_1 = model_1.score(x, y)\n",
    "print(f\"R squared is: {R_squared_1}\")"
   ]
  },
  {
   "cell_type": "code",
   "execution_count": null,
   "id": "7545329e-0945-4ac0-b34a-4628de33c33b",
   "metadata": {},
   "outputs": [],
   "source": [
    "# Run this cell as it is\n",
    "model_2 = LinearRegression(fit_intercept=True)\n",
    "x = data_2[[\"t\"]]\n",
    "y = data_2['1/[A]']\n",
    "model_2.fit(x, y)\n",
    "R_squared_2 = model_2.score(x, y)\n",
    "print(f\"R squared is: {R_squared_2}\")"
   ]
  },
  {
   "cell_type": "markdown",
   "id": "4505e3bc-73e1-427a-a2c2-faf66d494617",
   "metadata": {},
   "source": [
    "We can see that both graphs give pretty good $R^2$ values, however as model 2's value is closer to 1 so we can conclude that the reaction is second order with respect to reactant A.\n",
    "\n",
    "We can now use `scikit learn` again, but this time we use linear regression to predict the concentration of reactant at a given time. We can use it to plot a line of best fit from the graph and using this, find the gradient and y intercept from the model, which are the $m$ and $c$ values respectively of a $y = mx + c$ equation."
   ]
  },
  {
   "cell_type": "code",
   "execution_count": null,
   "id": "45560937-6507-458c-96af-3aa7a91b66c9",
   "metadata": {},
   "outputs": [],
   "source": [
    "# Run this cell as it is\n",
    "from sklearn import linear_model\n",
    "\n",
    "# Prepare the data\n",
    "X = data_2[[\"t\"]]\n",
    "Y = data_2[\"1/[A]\"]\n",
    "\n",
    "model = linear_model.LinearRegression(fit_intercept = True) # Create the model\n",
    "\n",
    "model.fit(X, Y) # Fit the model to the data\n",
    "\n",
    "data_2[\"pred_y\"] = model.predict(X) # Use the model for prediction and create new column in the dataframe to store this\n",
    "\n",
    "# Output the results\n",
    "print(\"Line gradient from model: \", model.coef_[0])\n",
    "print(\"Line intercept from model:\", model.intercept_)"
   ]
  },
  {
   "cell_type": "markdown",
   "id": "2c1e7d99-0328-4aa6-b903-bde5b9c3d649",
   "metadata": {},
   "source": [
    "The `pred_y` column contains the points for this line of best fit and so we can plot this on the graph (shown in black)."
   ]
  },
  {
   "cell_type": "code",
   "execution_count": null,
   "id": "37a1c378-acdc-4f5b-a473-d347aa2477f1",
   "metadata": {},
   "outputs": [],
   "source": [
    "# Run this cell as it is\n",
    "lnA = data_2[\"ln([A])\"]\n",
    "recA = data_2[\"1/[A]\"]\n",
    "pred_Y = data_2[\"pred_y\"]\n",
    "fig, ax = plt.subplots()\n",
    "ax.scatter(t,recA)\n",
    "ax.plot(t,pred_Y,color = \"black\")\n",
    "ax.set_xlabel('t / s')\n",
    "ax.set_ylabel('1 / ([A] / mol dm$^{-3}$)')"
   ]
  },
  {
   "cell_type": "markdown",
   "id": "47f73ba0-8ee1-4b69-b215-3c05e7e24ae4",
   "metadata": {},
   "source": [
    "Looking back at the integrated rate laws we discussed earlier, we can see that this line essentially represents the integrated rate law equation, which is $\\frac{1}{[A]} = \\frac{1}{[A]_0} + kt$. We can see that the intercept corresponds to the value of $\\frac{1}{[A]_0}$, and the gradient corresponds to the value of $k$, which is our rate constant.\n",
    "\n",
    "We can also see from the table that the units of $k$ are $M^{-1} s^{-1}$ (or $mol^{-1} dm^{3} s^{-1}$) for a second order reaction.\n",
    "\n",
    "Let's verify this from the rate equation's units:\n",
    "\n",
    "$rate = k[A]^2$\n",
    "\n",
    "$mol dm^{-3} s^{-1} = (k) * (mol dm^{-3})^2$\n",
    "\n",
    "$mol dm^{-3} s^{-1} = (k) * (mol dm^{-3}) * (mol dm^{-3})$\n",
    "\n",
    "Cancelling out:\n",
    "\n",
    "$s^{-1} = (k) * (mol dm^{-3})$\n",
    "\n",
    "$(k) = s^{-1} / (mol dm^{-3})$\n",
    "\n",
    "$(k) = (mol^{-1} dm^{3}) s^{-1}$\n",
    "\n",
    "So the units of k are indeed $mol^{-1} dm^{3} s^{-1}$."
   ]
  },
  {
   "cell_type": "markdown",
   "id": "aaad3649-45c9-4287-9210-da76a3249755",
   "metadata": {},
   "source": [
    "$\\frac{1}{[A]} = \\frac{1}{[A]_0} + kt$\n",
    "\n",
    "Substituting the known constants:\n",
    "\n",
    "$\\frac{1}{[A]} = 0.201 + 0.208t$\n",
    "\n",
    "$y=mx+c$\n",
    "\n",
    "Therefore $rate = 0.208[A]^2$\n",
    "\n",
    "So say we wanted to find the concentration of reactant A at 120 seconds:\n",
    "\n",
    "$\\frac{1}{[A]} = 0.201 + (0.208 * 120)$\n",
    "\n",
    "$[A] = \\frac{1}{0.201 + (0.208 * 120)}$\n",
    "\n",
    "$\\approx$ $0.0411$ $mol$ $dm^{-3}$"
   ]
  },
  {
   "cell_type": "code",
   "execution_count": null,
   "id": "4a7d5a26-53f9-490e-8c2d-4c6c7310e076",
   "metadata": {},
   "outputs": [],
   "source": [
    "# Run this cell as it is\n",
    "pred_A = 1 / (model.coef_[0] + (model.intercept_ * 120))\n",
    "print(f\"The predicted concentration of reactant A at 120 seconds is {pred_A} mol dm⁻³\")"
   ]
  },
  {
   "cell_type": "markdown",
   "id": "af9d4162-8818-43d8-bdbd-a635f47bb045",
   "metadata": {},
   "source": [
    "**Question (2): From inspection of the initial concentration vs time graph what do you estimate the concentration of reactant A to be at 20 seconds? Type in the code (using the above to help) and see if it matches the estimation.**\n",
    "\n",
    "*Add some text to the cell below and press the &#9205; Run button (play symbol). To run all the cells again in order press the &#9193; button (fast-forward symbol) and then select the red \"Restart and Run All Cells\" option.*"
   ]
  },
  {
   "cell_type": "code",
   "execution_count": null,
   "id": "b3dea12c-d183-490a-9471-7d2001b18fe9",
   "metadata": {},
   "outputs": [],
   "source": [
    "## ADD TEXT HERE\n"
   ]
  },
  {
   "cell_type": "markdown",
   "id": "5be19727-0bd2-47c2-b7a0-590ed8c323be",
   "metadata": {},
   "source": [
    "**Question (3): What are the limitations of predicting at particularly low or high temperatures?**\n",
    "\n",
    "*Discuss this in groups*"
   ]
  },
  {
   "cell_type": "code",
   "execution_count": null,
   "id": "918cbf6f-010c-4581-865c-13f14632086a",
   "metadata": {},
   "outputs": [],
   "source": []
  }
 ],
 "metadata": {
  "kernelspec": {
   "display_name": "Python 3 (ipykernel)",
   "language": "python",
   "name": "python3"
  },
  "language_info": {
   "codemirror_mode": {
    "name": "ipython",
    "version": 3
   },
   "file_extension": ".py",
   "mimetype": "text/x-python",
   "name": "python",
   "nbconvert_exporter": "python",
   "pygments_lexer": "ipython3",
   "version": "3.11.9"
  }
 },
 "nbformat": 4,
 "nbformat_minor": 5
}
